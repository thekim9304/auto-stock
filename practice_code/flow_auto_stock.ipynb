{
 "cells": [
  {
   "cell_type": "code",
   "execution_count": 28,
   "metadata": {},
   "outputs": [],
   "source": [
    "import sys\n",
    "sys.path.append(\"/Users/lucas.tk/AutoStock\")\n",
    "\n",
    "import yaml\n",
    "from utils.api.api_init import get_access_token\n",
    "from utils.api.api_get_stock_info import get_now_price"
   ]
  },
  {
   "cell_type": "code",
   "execution_count": 29,
   "metadata": {},
   "outputs": [],
   "source": [
    "''' Load Config '''\n",
    "path_yaml = \"../config_private.yaml\"\n",
    "with open(path_yaml, encoding='UTF-8') as f:\n",
    "    _cfg = yaml.load(f, Loader=yaml.FullLoader)\n",
    "\n",
    "    APP_KEY = _cfg['APP_KEY']\n",
    "    APP_SECRET = _cfg['APP_SECRET']\n",
    "\n",
    "    CANO = _cfg['CANO']\n",
    "    ACNT_PRDT_CD = _cfg['ACNT_PRDT_CD']\n",
    "\n",
    "    URL_BASE = _cfg['URL_BASE']"
   ]
  },
  {
   "cell_type": "markdown",
   "metadata": {},
   "source": [
    "### Access Token 가져오기"
   ]
  },
  {
   "cell_type": "code",
   "execution_count": 30,
   "metadata": {},
   "outputs": [],
   "source": [
    "''' Access Token 받아오기 '''\n",
    "headers = {\"content-type\":\"application/json\"}\n",
    "body = {\n",
    "    \"grant_type\":\"client_credentials\",\n",
    "    \"appkey\":APP_KEY, \n",
    "    \"appsecret\":APP_SECRET\n",
    "    }\n",
    "ACCESS_TOKEN = get_access_token(URL_BASE, headers, body)"
   ]
  },
  {
   "cell_type": "markdown",
   "metadata": {},
   "source": [
    "### 현재 가격 가져오기"
   ]
  },
  {
   "cell_type": "code",
   "execution_count": 32,
   "metadata": {},
   "outputs": [],
   "source": [
    "''' 지정 종목(code)의 현재 가격 가져오기 '''\n",
    "headers = {\n",
    "    \"content-type\":\"application/json\",\n",
    "    \"authorization\": f\"Bearer {ACCESS_TOKEN}\",\n",
    "    \"appKey\":APP_KEY,\n",
    "    \"appSecret\":APP_SECRET,\n",
    "    \"tr_id\":\"FHKST01010100\"\n",
    "}\n",
    "CODE = \"005930\"\n",
    "now_price = get_now_price(URL_BASE, headers, CODE)"
   ]
  },
  {
   "cell_type": "code",
   "execution_count": 33,
   "metadata": {},
   "outputs": [
    {
     "data": {
      "text/plain": [
       "58700"
      ]
     },
     "execution_count": 33,
     "metadata": {},
     "output_type": "execute_result"
    }
   ],
   "source": [
    "now_price"
   ]
  },
  {
   "cell_type": "markdown",
   "metadata": {},
   "source": [
    "### "
   ]
  },
  {
   "cell_type": "code",
   "execution_count": null,
   "metadata": {},
   "outputs": [],
   "source": []
  },
  {
   "cell_type": "code",
   "execution_count": null,
   "metadata": {},
   "outputs": [],
   "source": []
  },
  {
   "cell_type": "code",
   "execution_count": null,
   "metadata": {},
   "outputs": [],
   "source": []
  }
 ],
 "metadata": {
  "kernelspec": {
   "display_name": "Python 3.9.2 ('.autostock': venv)",
   "language": "python",
   "name": "python3"
  },
  "language_info": {
   "codemirror_mode": {
    "name": "ipython",
    "version": 3
   },
   "file_extension": ".py",
   "mimetype": "text/x-python",
   "name": "python",
   "nbconvert_exporter": "python",
   "pygments_lexer": "ipython3",
   "version": "3.9.2"
  },
  "orig_nbformat": 4,
  "vscode": {
   "interpreter": {
    "hash": "1b7e46f35e49846c8dd63c72968e0fda50db7668faece8828408a840fd49dbfc"
   }
  }
 },
 "nbformat": 4,
 "nbformat_minor": 2
}
